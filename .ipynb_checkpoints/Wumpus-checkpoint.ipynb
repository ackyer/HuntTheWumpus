{
 "cells": [
  {
   "cell_type": "code",
   "execution_count": 1,
   "id": "e1ec04f1-dbb1-4705-86b8-833e07358853",
   "metadata": {},
   "outputs": [],
   "source": [
    "from copy import deepcopy\n",
    "from typing import Tuple, List\n",
    "import math\n",
    "import itertools\n",
    "from IPython.display import HTML, display\n",
    "from ipywidgets import HTML as WidgetHTML\n",
    "import random\n",
    "import tkinter as tk\n",
    "from tkinter import messagebox"
   ]
  },
  {
   "cell_type": "code",
   "execution_count": 2,
   "id": "ad97b473-139a-4457-b880-7ac83dece45c",
   "metadata": {},
   "outputs": [],
   "source": [
    "class Tablerowumpus:\n",
    "    \n",
    "    def __init__(self, matrix = None):\n",
    "        self.setMatrix(matrix)\n",
    "    \n",
    "    \n",
    "    def __eq__(self, other) -> bool:\n",
    "\n",
    "\n",
    "        #      COMPLETAD VOSOTR@S\n",
    "\n",
    "        if len(self.matrix) != len(other.getMatrix()):\n",
    "            return False\n",
    "        for fila1, fila2 in zip(self.matrix, other.getMatrix()):\n",
    "            if len(fila1) != len(fila2):\n",
    "                return False\n",
    "                \n",
    "            for casilla1, casilla2 in zip(fila1, fila2):\n",
    "                if casilla1 != casilla2:\n",
    "                    return False\n",
    "\n",
    "        return True\n",
    "                \n",
    "        \n",
    "  #      return XXXXXXXXXXXXXX\n",
    "    \n",
    "    \n",
    "    def setMatrix(self, matrix):\n",
    "        self.matrix = deepcopy(matrix)\n",
    "    \n",
    "    \n",
    "    def getMatrix(self) -> List[List]:\n",
    "        return deepcopy(self.matrix)\n",
    "    \n",
    "    \n",
    "    def placeTile(self, row: int, col: int, tile: int):\n",
    "        self.matrix[row-1][col-1] = tile\n",
    "    \n",
    "    \n",
    "    def utility(self) -> float:\n",
    "\n",
    "    #      COMPLETAD VOSOTR@S\n",
    "    # \n",
    "    #      PRIMERA POPUESTA (MUY SENCILLA):\n",
    "    #      \n",
    "    #      Tiene que devolver la distancia euclídea entre la posición del \"agente\" y la del \"wumpus\".\n",
    "        \"\"\" Distancia con el wumpus (no sirve)\n",
    "        i = 0\n",
    "        for fila in self.matrix:\n",
    "            j = 0\n",
    "            for casilla in fila:\n",
    "                if casilla == 1:\n",
    "                    posicionAgente = [i, j]\n",
    "                elif casilla == 2:\n",
    "                    posicionWumpus = [i, j]\n",
    "                j+=1\n",
    "            i+=1\n",
    "        return math.sqrt(abs(posicionAgente[0]-posicionWumpus[0]) + abs(posicionAgente[1]-posicionWumpus[1]))\n",
    "        \"\"\"\n",
    "        valor = 15\n",
    "        for i, fila in enumerate(self.matrix):\n",
    "            for j, casilla in enumerate(fila):\n",
    "                if casilla == 1: #El agente en una casilla vacia\n",
    "                    posAgente = (i, j)\n",
    "                elif casilla == 11:#Si el agente esta en hedor\n",
    "                    valor -= 2\n",
    "                    posAgente = (i, j)\n",
    "                elif casilla == 12: #Si el agente esta en brisa\n",
    "                    valor -= 2\n",
    "                    posAgente = (i, j)\n",
    "                elif casilla == 13: #Si el agente esta en brisa y hedor\n",
    "                    valor -= 4\n",
    "                    posAgente = (i, j)\n",
    "                elif casilla == 14: #Si el agente ha caido en un hueco\n",
    "                    valor -= 100\n",
    "                    posAgente = (i, j)\n",
    "                elif casilla == 15: #Si el agente esta en la casilla del wumpus\n",
    "                    valor -= 1000\n",
    "                    posAgente = (i, j)\n",
    "                elif casilla in [16, 17, 18, 19]: #Si el agente llega al oro\n",
    "                    valor += 1000\n",
    "                    posAgente = (i, j)\n",
    "                    posOro = posAgente\n",
    "\n",
    "                if casilla in [4, 8, 9, 10]:\n",
    "                    posOro = (i, j)\n",
    "\n",
    "                if casilla == 2:\n",
    "                    valor -= 15\n",
    "                    \n",
    "        if posAgente != posOro:           \n",
    "            valor += 50/(abs(posAgente[0]-posOro[0]) + abs(posAgente[1]-posOro[1])) #Sumo 10/la distancia entre el agente y el oro (cuanto mas cerca este mas suma)\n",
    "\n",
    "        return valor\n",
    "                    \n",
    "    #  012           \n",
    "    #  OXX 0   10/3 = 3.33\n",
    "    #  XXX 1\n",
    "    #  XAX 2\n",
    "\n",
    "        \n",
    "                    \n",
    "    #   return XXXXXXXXXXXXXXXXXXXXXXXXX\n",
    " \n",
    "    \n",
    "    \"\"\"\n",
    "    def identificaVecinos(self):\n",
    "    #    Va a determinar los vecinos de las \"fichas de interés\"\n",
    "\n",
    "        \n",
    "                                                                                \n",
    "        for i, fila in enumerate(self.matrix):                         \n",
    "            for j, celda in enumerate(fila):                           \n",
    "                if celda == 2 or celda == 6:\n",
    "                    vecinos = posiciones_adyacentes(i, j, len(self.matrix))   \n",
    "                    #completar\n",
    "    \"\"\"            \n",
    "\n",
    "    def posiciones_adyacentes(self, x, y, dimension):\n",
    "        celdas_ady = [(-1, 0), (1, 0), (0, -1), (0, 1)]\n",
    "        celdas_validas = []\n",
    "        \n",
    "        for cx, cy in celdas_ady:\n",
    "            ni, nj = x + cx, y + cy\n",
    "            # Verificar si la celda adyacente (ni, nj) está dentro de los límites\n",
    "            if 0 <= ni < dimension and 0 <= nj < dimension:\n",
    "                celdas_validas.append((ni, nj))\n",
    "        return celdas_validas\n",
    "\n",
    "    def generarTableroInicial(self, dimension):\n",
    "        \n",
    "        # Crear el tablero vacío\n",
    "        tablero = [[0 for _ in range(dimension)] for _ in range(dimension)] \n",
    "\n",
    "        # Posición del \"agente\"\n",
    "        pos_agente = (dimension-1, 0)\n",
    "        tablero[dimension-1][0] = 1\n",
    "\n",
    "        \n",
    "        #asignar posicion para el \"oro\"\n",
    "        while True:\n",
    "            x, y = random.randint(0, dimension-1), random.randint(0, dimension-1)\n",
    "            #Comprobamos que este vacia la celda\n",
    "            if tablero[x][y] == 0 and (x, y) not in self.posiciones_adyacentes(*pos_agente, dimension):\n",
    "                tablero[x][y] = 4\n",
    "                break\n",
    "        \n",
    "        # asignar posición para el \"wumpus\"\n",
    "        while True:\n",
    "            x, y = random.randint(0, dimension-1), random.randint(0, dimension-1)\n",
    "            #Comprobamos que este vacia la celda y no este al lado del agente\n",
    "            if tablero[x][y] == 0 and (x, y) not in self.posiciones_adyacentes(*pos_agente, dimension):#* sirve para desempacar los elementos en pos agente\n",
    "                tablero[x][y] = 2\n",
    "                pos_wumpus = (x, y)\n",
    "                break\n",
    "                \n",
    "        #Asignamos hedor a las casillas adyacentes\n",
    "        for casilla in self.posiciones_adyacentes(*pos_wumpus, dimension):\n",
    "            if tablero[casilla[0]][casilla[1]] == 4:\n",
    "                tablero[casilla[0]][casilla[1]] = 8 #hedor + oro\n",
    "            else:\n",
    "                tablero[casilla[0]][casilla[1]] = 3 #hedor\n",
    "                \n",
    "        # asignar posición para los \"huecos\"\n",
    "        numero_huecos = 0\n",
    "        while numero_huecos < 2:\n",
    "            x, y = random.randint(0, dimension-1), random.randint(0, dimension-1)\n",
    "            #Comprobamos que este vacia la celda y no este al lado del wumpus\n",
    "            if tablero[x][y] == 0 and (x, y) not in self.posiciones_adyacentes(*pos_wumpus, dimension) and (x, y) not in self.posiciones_adyacentes(*pos_agente, dimension):\n",
    "                tablero[x][y] = 6\n",
    "                numero_huecos += 1\n",
    "                for casilla in self.posiciones_adyacentes(x, y, dimension):\n",
    "                    if tablero[casilla[0]][casilla[1]] == 0:\n",
    "                        tablero[casilla[0]][casilla[1]] = 5 #brisa\n",
    "                    elif tablero[casilla[0]][casilla[1]] == 1:\n",
    "                        tablero[casilla[0]][casilla[1]] = 12#Agente + brisa\n",
    "                    elif tablero[casilla[0]][casilla[1]] == 3:\n",
    "                        tablero[casilla[0]][casilla[1]] = 7#Brisa + hedor\n",
    "                    elif tablero[casilla[0]][casilla[1]] == 4:\n",
    "                        tablero[casilla[0]][casilla[1]] = 10#brisa + oro\n",
    "                    elif tablero[casilla[0]][casilla[1]] == 8:\n",
    "                        tablero[casilla[0]][casilla[1]] = 9#hedor + brisa + oro\n",
    "                    #No se puede dar la situacion de agente + hedor pq no puede estar el wumpus al lado del agente al comenzar la partida\n",
    "                    #En las situaciones en las que tenga que haber brisa en una casilla que ya haya brisa o las que haya hueco se queda igual\n",
    "\n",
    "        self.setMatrix(tablero) \n",
    "\n",
    "\n",
    "    def movimientoHuecosDisponibles(self):\n",
    "        movimientosDisponibles = []\n",
    "        casillasHuecos = []\n",
    "        #posWumpus = None\n",
    "        for i, fila in enumerate(self.matrix):\n",
    "            for j, casilla in enumerate(fila):\n",
    "                if casilla in [0, 1, 5, 6, 12, 14]: #evitamos casillas con wumpus, oro, hedor\n",
    "                    movimientosDisponibles.append((i, j))\n",
    "                if casilla in [6, 14]:\n",
    "                    casillasHuecos.append((i, j))\n",
    "        '''\n",
    "                elif casilla == 2:\n",
    "                    posWumpus = (i, j)\n",
    "        #Eliminamos las casillas que rodean al wumpus (los huecos no pueden estar en las posiciones adyacentes al wumpus)\n",
    "        if posWumpus is not None:\n",
    "            for casilla in self.posiciones_adyacentes(*posWumpus, len(self.matrix)):\n",
    "                movimientosDisponibles.remove(casilla)\n",
    "        '''\n",
    "        return movimientosDisponibles, casillasHuecos\n",
    "\n",
    "    def gameOver(self):\n",
    "        for fila in self.matrix:\n",
    "            for casilla in fila:\n",
    "                if casilla in [15, 16, 17, 18, 19]:\n",
    "                    return True\n",
    "\n",
    "    def moverHuecos(self):\n",
    "\n",
    "        movimientosDisponibles, casillasHuecos = self.movimientoHuecosDisponibles()\n",
    "        \n",
    "        movimientosGanadores = []\n",
    "\n",
    "        \"\"\"\n",
    "        while len(movimientosGanadores) < 2:\n",
    "            movimientoAleatorio = random.choice(movimientosDisponibles)#elegimos un movimiento aleatorio\n",
    "            movimientosGanadores.append(movimientoAleatorio)#lo metemos en la lista de movimientos\n",
    "            movimientosDisponibles.remove(movimientoAleatorio)#lo eliminamos de la lista para que no se repita\n",
    "        \"\"\"\n",
    "\n",
    "        movimientosGanadores = random.sample(movimientosDisponibles, 2) #elige 2 movimientos aleatorios de movimientosDisponibles\n",
    "\n",
    "        #Quitamos los huecos viejos y quitamos sus brisas\n",
    "        for casillaHueco in casillasHuecos:\n",
    "            if casillaHueco in movimientosGanadores:\n",
    "                movimientosGanadores.remove(casillaHueco)#evitamos hacer nada si el hueco no se mueve (no eliminamos ni añadimos brisas)\n",
    "                if not movimientosGanadores:\n",
    "                    return #si los huecos no se mueven terminamos la funcion\n",
    "            else:\n",
    "                if self.matrix[casillaHueco[0]][casillaHueco[1]] == 14:#si el agente esta en el hueco\n",
    "                    self.matrix[casillaHueco[0]][casillaHueco[1]] = 1 #se queda solo el agente\n",
    "                else:\n",
    "                    self.matrix[casillaHueco[0]][casillaHueco[1]] = 0 #desaparece el hueco\n",
    "\n",
    "                self.eliminarBrisas(casillaHueco)\n",
    "\n",
    "        #Añadimos huecos nuevos y añadimos sus brisas\n",
    "        for casilla in movimientosGanadores:\n",
    "            x, y = casilla\n",
    "            if self.matrix[x][y] == 0:#no hay nada\n",
    "                self.matrix[x][y] = 6\n",
    "            elif self.matrix[x][y] == 1:#agente\n",
    "                self.matrix[x][y] = 14\n",
    "            elif self.matrix[x][y] == 5:#brisa\n",
    "                self.matrix[x][y] = 6\n",
    "            elif self.matrix[x][y] == 12:#agente y brisa\n",
    "                self.matrix[x][y] = 14\n",
    "\n",
    "            self.añadirBrisas(casilla)\n",
    "                \n",
    "    def eliminarBrisas(self, casillaHueco):\n",
    "\n",
    "        posicionesBrisas = self.posiciones_adyacentes(*casillaHueco, len(self.matrix))\n",
    "\n",
    "        for brisa in posicionesBrisas:\n",
    "            x, y = brisa\n",
    "            if self.matrix[x][y] == 5:#brisa sola\n",
    "                self.matrix[x][y] = 0\n",
    "            elif self.matrix[x][y] == 7:#brisa + hedor\n",
    "                self.matrix[x][y] = 3\n",
    "            elif self.matrix[x][y] == 9:#brisa, hedor y oro\n",
    "                self.matrix[x][y] = 8\n",
    "            elif self.matrix[x][y] == 10: #brisa y oro\n",
    "                self.matrix[x][y] = 4\n",
    "            elif self.matrix[x][y] == 12:#brisa y agente\n",
    "                self.matrix[x][y] = 1\n",
    "            elif self.matrix[x][y] == 13:#brisa, hedor y agente\n",
    "                self.matrix[x][y] = 11\n",
    "            elif self.matrix[x][y] == 18:#brisa, hedor, oro y agente\n",
    "                self.matrix[x][y] = 17\n",
    "            elif self.matrix[x][y] == 19:#brisa, agente y oro\n",
    "                self.matrix[x][y] = 16\n",
    "\n",
    "    def añadirBrisas(self, casillaHueco):\n",
    "\n",
    "        casillas = self.posiciones_adyacentes(*casillaHueco, len(self.matrix))\n",
    "        \n",
    "        for casilla in casillas:\n",
    "            x, y = casilla\n",
    "            if self.matrix[x][y] == 0:#brisa sola\n",
    "                self.matrix[x][y] = 5\n",
    "            elif self.matrix[x][y] == 3:#brisa + hedor\n",
    "                self.matrix[x][y] = 7\n",
    "            elif self.matrix[x][y] == 8:#brisa, hedor y oro\n",
    "                self.matrix[x][y] = 9\n",
    "            elif self.matrix[x][y] == 4: #brisa y oro\n",
    "                self.matrix[x][y] = 10\n",
    "            elif self.matrix[x][y] == 1:#brisa y agente\n",
    "                self.matrix[x][y] = 12\n",
    "            elif self.matrix[x][y] == 11:#brisa, hedor y agente\n",
    "                self.matrix[x][y] = 13\n",
    "            elif self.matrix[x][y] == 17:#brisa, hedor, oro y agente\n",
    "                self.matrix[x][y] = 18\n",
    "            elif self.matrix[x][y] == 16:#brisa, agente y oro\n",
    "                self.matrix[x][y] = 19\n",
    "                \n",
    "    def movimientosAgenteDisponibles(self):\n",
    "\n",
    "        for i, fila in enumerate(self.matrix):\n",
    "            for j, casilla in enumerate(fila):\n",
    "                if casilla in [1, 11, 12, 13, 14, 15, 16, 17, 18, 19]:\n",
    "                    x, y = i, j\n",
    "                    \n",
    "                    \n",
    "        movimientosDisponibles = self.posiciones_adyacentes(x, y, len(self.matrix))\n",
    "\n",
    "        return movimientosDisponibles\n",
    "\n",
    "    \n",
    "\n",
    "    def moverAgente(self, casillaDestino):\n",
    "\n",
    "        for i, fila in enumerate(self.matrix):\n",
    "            for j, casilla in enumerate(fila):\n",
    "                if casilla in [1, 11, 12, 13, 14, 15, 16, 17, 18, 19]:\n",
    "                    x1, y1 = i, j #Pos agente\n",
    "                    \n",
    "        x2, y2 = casillaDestino\n",
    "\n",
    "        #Primero borramos al agente de su posicion actual\n",
    "        if self.matrix[x1][y1] == 1:#Solo agente\n",
    "            self.matrix[x1][y1] = 0\n",
    "        elif self.matrix[x1][y1] == 11:#Agente y hedor\n",
    "            self.matrix[x1][y1] = 3\n",
    "        elif self.matrix[x1][y1] == 12:#Agente y brisa\n",
    "            self.matrix[x1][y1] = 5\n",
    "        elif self.matrix[x1][y1] == 13:#Agente, hedor y brisa\n",
    "            self.matrix[x1][y1] = 7\n",
    "        elif self.matrix[x1][y1] == 14:#Agente y hueco\n",
    "            self.matrix[x1][y1] = 6\n",
    "        elif self.matrix[x1][y1] == 15:#Agente y wumpus\n",
    "            self.matrix[x1][y1] = 2\n",
    "        elif self.matrix[x1][y1] == 16:#Agente y oro\n",
    "            self.matrix[x1][y1] = 4\n",
    "        elif self.matrix[x1][y1] == 17:#Agente hedor y oro\n",
    "            self.matrix[x1][y1] = 8\n",
    "        elif self.matrix[x1][y1] == 18:#Agente hedor brisa y oro\n",
    "            self.matrix[x1][y1] = 9\n",
    "        elif self.matrix[x1][y1] == 19:#Agente brisa y oro\n",
    "            self.matrix[x1][y1] = 10\n",
    "\n",
    "        #Ahora añadimos el agente en la nueva posicion\n",
    "        if self.matrix[x2][y2] == 0:#Solo agente\n",
    "            self.matrix[x2][y2] = 1\n",
    "        elif self.matrix[x2][y2] == 3:#Agente y hedor\n",
    "            self.matrix[x2][y2] = 11\n",
    "        elif self.matrix[x2][y2] == 5:#Agente y brisa\n",
    "            self.matrix[x2][y2] = 12\n",
    "        elif self.matrix[x2][y2] == 7:#Agente, hedor y brisa\n",
    "            self.matrix[x2][y2] = 13\n",
    "        elif self.matrix[x2][y2] == 6:#Agente y hueco\n",
    "            self.matrix[x2][y2] = 14\n",
    "        elif self.matrix[x2][y2] == 2:#Agente y wumpus\n",
    "            self.matrix[x2][y2] = 15\n",
    "        elif self.matrix[x2][y2] == 4:#Agente y oro\n",
    "            self.matrix[x2][y2] = 16\n",
    "        elif self.matrix[x2][y2] == 8:#Agente hedor y oro\n",
    "            self.matrix[x2][y2] = 17\n",
    "        elif self.matrix[x2][y2] == 9:#Agente hedor brisa y oro\n",
    "            self.matrix[x2][y2] = 18\n",
    "        elif self.matrix[x2][y2] == 10:#Agente brisa y oro\n",
    "            self.matrix[x2][y2] = 19"
   ]
  },
  {
   "cell_type": "code",
   "execution_count": 3,
   "id": "62b9b018-5397-4a57-b436-7afe39b7984e",
   "metadata": {},
   "outputs": [],
   "source": [
    "class TableroGrafico:\n",
    "\n",
    "    def __init__(self, tablero = None):\n",
    "        self.tablero = tablero\n",
    "\n",
    "    def cargarFichero(self):\n",
    "        \n",
    "        # Cargamos un fichero que codifica un tablero como el indicado arriba.\n",
    "        fileHandler = open (\"TableroWumpus4x4.txt\", \"r\",encoding=\"utf-8\") #Para cambiar el tamaño del tablero basta con introducir un \".txt\" con diferente tamaño\n",
    "     \n",
    "        # Get list of all lines in file\n",
    "        listOfLines = fileHandler.readlines()\n",
    "     \n",
    "        # Close file \n",
    "        fileHandler.close()\n",
    "\n",
    "        return listOfLines\n",
    "\n",
    "    def getCodigoTablero(self, caracter):\n",
    "        '''\n",
    "        Devuelve el código de mapa asociado a los caracteres definidos.\n",
    "        '''    \n",
    "        \n",
    "        codigo = 0\n",
    "        \n",
    "        if caracter == 'A':\n",
    "            codigo = 1\n",
    "        elif caracter == 'W':\n",
    "            codigo = 2        \n",
    "        elif caracter == 'H':\n",
    "            codigo = 3\n",
    "        elif caracter == 'O':\n",
    "            codigo = 4\n",
    "        elif caracter == 'S':\n",
    "            codigo = 5\n",
    "        elif caracter == 'C':\n",
    "            codigo = 6\n",
    "        elif caracter == 'HS':\n",
    "            codigo = 7\n",
    "        elif caracter == 'HO':\n",
    "            codigo = 8\n",
    "        elif caracter == 'HSO':\n",
    "            codigo = 9\n",
    "        elif caracter == 'SO':\n",
    "            codigo = 10\n",
    "        elif caracter == 'AH':\n",
    "            codigo = 11\n",
    "        elif caracter == 'AS':\n",
    "            codigo = 12\n",
    "        elif caracter == 'AHS':\n",
    "            codigo = 13\n",
    "        elif caracter == 'AC':\n",
    "            codigo = 14\n",
    "        elif caracter == 'AW':\n",
    "            codigo = 15\n",
    "        elif caracter == 'AO':\n",
    "            codigo = 16\n",
    "        elif caracter == 'AHO':\n",
    "            codigo = 17\n",
    "        elif caracter == 'AHSO':\n",
    "            codigo = 18\n",
    "        elif caracter == 'ASO':\n",
    "            codigo = 19\n",
    "            \n",
    "        return codigo\n",
    "\n",
    "    def construirTablero(self):\n",
    "        \n",
    "        nFila=0\n",
    "        listOfLines = self.cargarFichero()\n",
    "        ancho=len(listOfLines) \n",
    "        \n",
    "        for linea in listOfLines:\n",
    "                \n",
    "                fila = list(itertools.repeat(0, ancho))\n",
    "        \n",
    "                nCol = 0\n",
    "                for ch in linea:\n",
    "                    if ch =='\\n':\n",
    "                        break\n",
    "        \n",
    "                    codigo = self.getCodigoTablero(ch)\n",
    "                    fila[nCol] = codigo                \n",
    "        \n",
    "                    nCol+=1\n",
    "        \n",
    "                self.tablero.append(fila)\n",
    "                nFila+=1\n",
    "\n",
    "    def get_content(self, coord):\n",
    "        \"\"\"\n",
    "        Obtiene el contenido de una determinada posición.\n",
    "        \n",
    "        Parameters\n",
    "        ----------\n",
    "        coord : Posición [y,x] de la que queremos conocer el contenido\n",
    "        \n",
    "        Returns\n",
    "        --------\n",
    "        contenido : Una lista de tamaño 1 .\n",
    "        \"\"\"\n",
    "        contenido = [None]\n",
    "        \n",
    "        if self.tablero[coord[0]][coord[1]] == 0:\n",
    "            contenido[0] = \"CasillaVacia\"\n",
    "        elif self.tablero[coord[0]][coord[1]] == 1:\n",
    "            contenido[0] = \"CasillaAgente\"\n",
    "        elif self.tablero[coord[0]][coord[1]] == 2:\n",
    "            contenido[0] = \"CasillaWumpus\"\n",
    "        elif self.tablero[coord[0]][coord[1]] == 3:\n",
    "            contenido[0] = \"CasillaHedor\"\n",
    "        elif self.tablero[coord[0]][coord[1]] == 4:\n",
    "            contenido[0] = \"CasillaOro\"\n",
    "        elif self.tablero[coord[0]][coord[1]] == 5:\n",
    "            contenido[0] = \"CasillaBrisa\"\n",
    "        elif self.tablero[coord[0]][coord[1]] == 6:\n",
    "            contenido[0] = \"CasillaHueco\"\n",
    "        elif self.tablero[coord[0]][coord[1]] == 7:\n",
    "            contenido[0] = \"CasillaHedorBrisa\"\n",
    "        elif self.tablero[coord[0]][coord[1]] == 8:\n",
    "            contenido[0] = \"CasillaHedorOro\"\n",
    "        elif self.tablero[coord[0]][coord[1]] == 9:\n",
    "            contenido[0] = \"CasillaHedorBrisaOro\"\n",
    "        elif self.tablero[coord[0]][coord[1]] == 10:\n",
    "            contenido[0] = \"CasillaBrisaOro\"\n",
    "        elif self.tablero[coord[0]][coord[1]] == 11:\n",
    "            contenido[0] = \"CasillaAgenteHedor\"\n",
    "        elif self.tablero[coord[0]][coord[1]] == 12:\n",
    "            contenido[0] = \"CasillaAgenteBrisa\"\n",
    "        elif self.tablero[coord[0]][coord[1]] == 13:\n",
    "            contenido[0] = \"CasillaAgenteHedorBrisa\"\n",
    "        elif self.tablero[coord[0]][coord[1]] == 14:\n",
    "            contenido[0] = \"CasillaAgenteHueco\"\n",
    "        elif self.tablero[coord[0]][coord[1]] == 15:\n",
    "            contenido[0] = \"CasillaAgenteWumpus\"\n",
    "        elif self.tablero[coord[0]][coord[1]] == 16:\n",
    "            contenido[0] = \"CasillaAgenteOro\"\n",
    "        elif self.tablero[coord[0]][coord[1]] == 17:\n",
    "            contenido[0] = \"CasillaAgenteHedorOro\"\n",
    "        elif self.tablero[coord[0]][coord[1]] == 18:\n",
    "            contenido[0] = \"CasillaAgenteHedorBrisaOro\"\n",
    "        elif self.tablero[coord[0]][coord[1]] == 19:\n",
    "            contenido[0] = \"CasillaAgenteBrisaOro\"\n",
    "        \n",
    "        return contenido\n",
    "\n",
    "    \n",
    "\n",
    "    def get_html(self):\n",
    "        \"\"\" Muestra una representación gráfica del juego.\n",
    "    \n",
    "        Devuelve un \"string\" que contiene HTML\n",
    "    \n",
    "        \"\"\" \n",
    "        if self.tablero is None:\n",
    "            self.construirTablero()\n",
    "            \n",
    "        element_image = {\n",
    "        \"CasillaVacia\": \"./ImagenesCasillasWumpus/CasillaVacia.png\",\n",
    "        \"CasillaAgente\": \"./ImagenesCasillasWumpus/CasillaAgente.png\",\n",
    "        \"CasillaWumpus\": \"./ImagenesCasillasWumpus/CasillaWumpus.png\",\n",
    "        \"CasillaHedor\": \"./ImagenesCasillasWumpus/CasillaHedor.png\",\n",
    "        \"CasillaOro\": \"./ImagenesCasillasWumpus/CasillaOro.png\",\n",
    "        \"CasillaBrisa\": \"./ImagenesCasillasWumpus/CasillaBrisa.png\",\n",
    "        \"CasillaHueco\": \"./ImagenesCasillasWumpus/CasillaHueco.png\",\n",
    "        \"CasillaHedorBrisa\": \"./ImagenesCasillasWumpus/CasillaHedorBrisa.png\",\n",
    "        \"CasillaHedorOro\": \"./ImagenesCasillasWumpus/CasillaHedorOro.png\",\n",
    "        \"CasillaHedorBrisaOro\": \"./ImagenesCasillasWumpus/CasillaHedorBrisaOro.png\",\n",
    "        \"CasillaBrisaOro\": \"./ImagenesCasillasWumpus/CasillaBrisaOro.png\",\n",
    "        \"CasillaAgenteHedor\": \"./ImagenesCasillasWumpus/CasillaAgenteHedor.png\",\n",
    "        \"CasillaAgenteBrisa\": \"./ImagenesCasillasWumpus/CasillaAgenteBrisa.png\",\n",
    "        \"CasillaAgenteHedorBrisa\": \"./ImagenesCasillasWumpus/CasillaAgenteHedorBrisa.png\",\n",
    "        \"CasillaAgenteHueco\": \"./ImagenesCasillasWumpus/CasillaAgenteHueco.png\",\n",
    "        \"CasillaAgenteWumpus\": \"./ImagenesCasillasWumpus/CasillaAgenteWumpus.png\",\n",
    "        \"CasillaAgenteOro\": \"./ImagenesCasillasWumpus/CasillaAgenteOro.png\",\n",
    "        \"CasillaAgenteHedorOro\": \"./ImagenesCasillasWumpus/CasillaAgenteHedorOro.png\",\n",
    "        \"CasillaAgenteHedorBrisaOro\": \"./ImagenesCasillasWumpus/CasillaAgenteHedorBrisaOro.png\",\n",
    "        \"CasillaAgenteBrisaOro\": \"./ImagenesCasillasWumpus/CasillaAgenteBrisaOro.png\"\n",
    "        }\n",
    "        \n",
    "        height = len(self.tablero)\n",
    "        width = len(self.tablero[0])\n",
    "        \n",
    "        html_string = \"<style> img.game {width: 37px !important; height: 22px !important;}</style><table>\"\n",
    "        \n",
    "    \n",
    "    \n",
    "        new_row = \"<tr>\"\n",
    "        end_row = \"</tr>\"\n",
    "        \n",
    "        for i in range(height):\n",
    "            html_string+=new_row\n",
    "            for j in range(width):\n",
    "                \n",
    "                content = self.get_content((i,j))\n",
    "                drawing = element_image[content[0]]\n",
    "                \n",
    "                html = '<td><img class=\"game\" src=%s alt=\"\"></img></td>' % drawing     \n",
    "                \n",
    "                \n",
    "                html_string+=html\n",
    "            html_string+=end_row\n",
    "                \n",
    "        html_string += \"</table>\"\n",
    "            \n",
    "                    \n",
    "        return html_string\n",
    "        \n",
    "    def mostrarTablero(self):\n",
    "        display(HTML(self.get_html()))"
   ]
  },
  {
   "cell_type": "code",
   "execution_count": 4,
   "id": "c9307289-7e46-49ec-ae41-6bbb0af4baf8",
   "metadata": {},
   "outputs": [],
   "source": [
    "class Partida:\n",
    "\n",
    "\n",
    "    def generarSucesoresMax(self, state):\n",
    "        \n",
    "        sucesores = []\n",
    "        movimientosDisponibles = state.movimientosAgenteDisponibles()\n",
    "        for casilla in movimientosDisponibles:\n",
    "            new_state = Tablerowumpus(state.getMatrix())\n",
    "            new_state.moverAgente(casilla)\n",
    "            sucesores.append(new_state)\n",
    "\n",
    "        return sucesores\n",
    "\n",
    "    def generarSucesoresMin(self, state):\n",
    "\n",
    "        sucesores = []\n",
    "\n",
    "        while len(sucesores) < 6: #Generamos 6 sucesores aleatorios\n",
    "            new_state = Tablerowumpus(state.getMatrix())\n",
    "            new_state.moverHuecos()\n",
    "            sucesores.append(new_state)\n",
    "\n",
    "        return sucesores\n",
    "            \n",
    "\n",
    "    def maximize(self, state, alfa, beta, currentLevel, maxLevel):\n",
    "\n",
    "        if state.gameOver() or currentLevel == maxLevel:\n",
    "            return (None, state.utility())\n",
    "\n",
    "        max_state, max_score = None, -math.inf\n",
    "\n",
    "        sucesores = self.generarSucesoresMax(state)\n",
    "        for sucesor in sucesores:\n",
    "            _, score = self.minimize(sucesor, alfa, beta, currentLevel+1, maxLevel)\n",
    "            if score > max_score:\n",
    "                max_state, max_score = sucesor, score\n",
    "            if max_score >= beta:\n",
    "                break\n",
    "            if max_score > alfa:\n",
    "                alfa = max_score\n",
    "\n",
    "        return max_state, max_score\n",
    "\n",
    "    def minimize(self, state, alfa, beta, currentLevel, maxLevel):\n",
    "\n",
    "        if state.gameOver() or currentLevel == maxLevel:\n",
    "            return (None, state.utility())\n",
    "\n",
    "        min_state, min_score = None, math.inf\n",
    "\n",
    "        sucesores = self.generarSucesoresMin(state)\n",
    "        for sucesor in sucesores:\n",
    "            _, score = self.maximize(sucesor, alfa, beta, currentLevel+1, maxLevel)\n",
    "            if score < min_score:\n",
    "                min_state, min_score = sucesor, score\n",
    "            if min_score <= alfa:\n",
    "                break\n",
    "            if min_score < beta:\n",
    "                beta = min_score\n",
    "\n",
    "        return min_state, min_score\n",
    "\n",
    "    def minimax(self, state):\n",
    "        max_state, _ = self.maximize(state, -math.inf, math.inf, 0, 3)\n",
    "        return max_state\n",
    "\n",
    "\n",
    "    "
   ]
  },
  {
   "cell_type": "code",
   "execution_count": 5,
   "id": "b03fdba7-1508-4eea-8baa-6308641a8685",
   "metadata": {},
   "outputs": [
    {
     "name": "stdout",
     "output_type": "stream",
     "text": [
      "#########################################\n",
      "#                                       #\n",
      "#           COMIENZO PARTIDA            #\n",
      "#                                       #\n",
      "#########################################\n",
      "\n",
      "Elige el tamaño del tablero:\n",
      "1. 4x4\n",
      "2. 6x6\n"
     ]
    },
    {
     "name": "stdin",
     "output_type": "stream",
     "text": [
      "Selecciona 1 o 2:  1\n"
     ]
    },
    {
     "name": "stdout",
     "output_type": "stream",
     "text": [
      "Has seleccionado un tablero de 4x4.\n",
      "\n",
      "        TABLERO INICIAL         \n",
      "\n"
     ]
    },
    {
     "data": {
      "text/html": [
       "<style> img.game {width: 37px !important; height: 22px !important;}</style><table><tr><td><img class=\"game\" src=./ImagenesCasillasWumpus/CasillaBrisa.png alt=\"\"></img></td><td><img class=\"game\" src=./ImagenesCasillasWumpus/CasillaVacia.png alt=\"\"></img></td><td><img class=\"game\" src=./ImagenesCasillasWumpus/CasillaHedor.png alt=\"\"></img></td><td><img class=\"game\" src=./ImagenesCasillasWumpus/CasillaVacia.png alt=\"\"></img></td></tr><tr><td><img class=\"game\" src=./ImagenesCasillasWumpus/CasillaHueco.png alt=\"\"></img></td><td><img class=\"game\" src=./ImagenesCasillasWumpus/CasillaHedorBrisa.png alt=\"\"></img></td><td><img class=\"game\" src=./ImagenesCasillasWumpus/CasillaWumpus.png alt=\"\"></img></td><td><img class=\"game\" src=./ImagenesCasillasWumpus/CasillaHedorOro.png alt=\"\"></img></td></tr><tr><td><img class=\"game\" src=./ImagenesCasillasWumpus/CasillaBrisa.png alt=\"\"></img></td><td><img class=\"game\" src=./ImagenesCasillasWumpus/CasillaVacia.png alt=\"\"></img></td><td><img class=\"game\" src=./ImagenesCasillasWumpus/CasillaHedor.png alt=\"\"></img></td><td><img class=\"game\" src=./ImagenesCasillasWumpus/CasillaBrisa.png alt=\"\"></img></td></tr><tr><td><img class=\"game\" src=./ImagenesCasillasWumpus/CasillaAgente.png alt=\"\"></img></td><td><img class=\"game\" src=./ImagenesCasillasWumpus/CasillaVacia.png alt=\"\"></img></td><td><img class=\"game\" src=./ImagenesCasillasWumpus/CasillaBrisa.png alt=\"\"></img></td><td><img class=\"game\" src=./ImagenesCasillasWumpus/CasillaHueco.png alt=\"\"></img></td></tr></table>"
      ],
      "text/plain": [
       "<IPython.core.display.HTML object>"
      ]
     },
     "metadata": {},
     "output_type": "display_data"
    },
    {
     "name": "stdin",
     "output_type": "stream",
     "text": [
      "¿Deseas continuar? (s/n):  s\n"
     ]
    },
    {
     "name": "stdout",
     "output_type": "stream",
     "text": [
      "#########################################\n",
      "#                                       #\n",
      "#           TURNO DEL AGENTE            #\n",
      "#                                       #\n",
      "#########################################\n",
      "\n"
     ]
    },
    {
     "data": {
      "text/html": [
       "<style> img.game {width: 37px !important; height: 22px !important;}</style><table><tr><td><img class=\"game\" src=./ImagenesCasillasWumpus/CasillaBrisa.png alt=\"\"></img></td><td><img class=\"game\" src=./ImagenesCasillasWumpus/CasillaVacia.png alt=\"\"></img></td><td><img class=\"game\" src=./ImagenesCasillasWumpus/CasillaHedor.png alt=\"\"></img></td><td><img class=\"game\" src=./ImagenesCasillasWumpus/CasillaVacia.png alt=\"\"></img></td></tr><tr><td><img class=\"game\" src=./ImagenesCasillasWumpus/CasillaHueco.png alt=\"\"></img></td><td><img class=\"game\" src=./ImagenesCasillasWumpus/CasillaHedorBrisa.png alt=\"\"></img></td><td><img class=\"game\" src=./ImagenesCasillasWumpus/CasillaWumpus.png alt=\"\"></img></td><td><img class=\"game\" src=./ImagenesCasillasWumpus/CasillaHedorOro.png alt=\"\"></img></td></tr><tr><td><img class=\"game\" src=./ImagenesCasillasWumpus/CasillaAgenteBrisa.png alt=\"\"></img></td><td><img class=\"game\" src=./ImagenesCasillasWumpus/CasillaVacia.png alt=\"\"></img></td><td><img class=\"game\" src=./ImagenesCasillasWumpus/CasillaHedor.png alt=\"\"></img></td><td><img class=\"game\" src=./ImagenesCasillasWumpus/CasillaBrisa.png alt=\"\"></img></td></tr><tr><td><img class=\"game\" src=./ImagenesCasillasWumpus/CasillaVacia.png alt=\"\"></img></td><td><img class=\"game\" src=./ImagenesCasillasWumpus/CasillaVacia.png alt=\"\"></img></td><td><img class=\"game\" src=./ImagenesCasillasWumpus/CasillaBrisa.png alt=\"\"></img></td><td><img class=\"game\" src=./ImagenesCasillasWumpus/CasillaHueco.png alt=\"\"></img></td></tr></table>"
      ],
      "text/plain": [
       "<IPython.core.display.HTML object>"
      ]
     },
     "metadata": {},
     "output_type": "display_data"
    },
    {
     "name": "stdin",
     "output_type": "stream",
     "text": [
      "¿Deseas continuar? (s/n):  s\n"
     ]
    },
    {
     "name": "stdout",
     "output_type": "stream",
     "text": [
      "#########################################\n",
      "#                                       #\n",
      "#         TURNO DE LOS HUECOS           #\n",
      "#                                       #\n",
      "#########################################\n",
      "\n"
     ]
    },
    {
     "data": {
      "text/html": [
       "<style> img.game {width: 37px !important; height: 22px !important;}</style><table><tr><td><img class=\"game\" src=./ImagenesCasillasWumpus/CasillaVacia.png alt=\"\"></img></td><td><img class=\"game\" src=./ImagenesCasillasWumpus/CasillaVacia.png alt=\"\"></img></td><td><img class=\"game\" src=./ImagenesCasillasWumpus/CasillaHedor.png alt=\"\"></img></td><td><img class=\"game\" src=./ImagenesCasillasWumpus/CasillaVacia.png alt=\"\"></img></td></tr><tr><td><img class=\"game\" src=./ImagenesCasillasWumpus/CasillaVacia.png alt=\"\"></img></td><td><img class=\"game\" src=./ImagenesCasillasWumpus/CasillaHedor.png alt=\"\"></img></td><td><img class=\"game\" src=./ImagenesCasillasWumpus/CasillaWumpus.png alt=\"\"></img></td><td><img class=\"game\" src=./ImagenesCasillasWumpus/CasillaHedorBrisaOro.png alt=\"\"></img></td></tr><tr><td><img class=\"game\" src=./ImagenesCasillasWumpus/CasillaAgente.png alt=\"\"></img></td><td><img class=\"game\" src=./ImagenesCasillasWumpus/CasillaBrisa.png alt=\"\"></img></td><td><img class=\"game\" src=./ImagenesCasillasWumpus/CasillaHedorBrisa.png alt=\"\"></img></td><td><img class=\"game\" src=./ImagenesCasillasWumpus/CasillaHueco.png alt=\"\"></img></td></tr><tr><td><img class=\"game\" src=./ImagenesCasillasWumpus/CasillaBrisa.png alt=\"\"></img></td><td><img class=\"game\" src=./ImagenesCasillasWumpus/CasillaHueco.png alt=\"\"></img></td><td><img class=\"game\" src=./ImagenesCasillasWumpus/CasillaBrisa.png alt=\"\"></img></td><td><img class=\"game\" src=./ImagenesCasillasWumpus/CasillaBrisa.png alt=\"\"></img></td></tr></table>"
      ],
      "text/plain": [
       "<IPython.core.display.HTML object>"
      ]
     },
     "metadata": {},
     "output_type": "display_data"
    },
    {
     "name": "stdin",
     "output_type": "stream",
     "text": [
      "¿Deseas continuar? (s/n):  s\n"
     ]
    },
    {
     "name": "stdout",
     "output_type": "stream",
     "text": [
      "#########################################\n",
      "#                                       #\n",
      "#           TURNO DEL AGENTE            #\n",
      "#                                       #\n",
      "#########################################\n",
      "\n"
     ]
    },
    {
     "data": {
      "text/html": [
       "<style> img.game {width: 37px !important; height: 22px !important;}</style><table><tr><td><img class=\"game\" src=./ImagenesCasillasWumpus/CasillaVacia.png alt=\"\"></img></td><td><img class=\"game\" src=./ImagenesCasillasWumpus/CasillaVacia.png alt=\"\"></img></td><td><img class=\"game\" src=./ImagenesCasillasWumpus/CasillaHedor.png alt=\"\"></img></td><td><img class=\"game\" src=./ImagenesCasillasWumpus/CasillaVacia.png alt=\"\"></img></td></tr><tr><td><img class=\"game\" src=./ImagenesCasillasWumpus/CasillaAgente.png alt=\"\"></img></td><td><img class=\"game\" src=./ImagenesCasillasWumpus/CasillaHedor.png alt=\"\"></img></td><td><img class=\"game\" src=./ImagenesCasillasWumpus/CasillaWumpus.png alt=\"\"></img></td><td><img class=\"game\" src=./ImagenesCasillasWumpus/CasillaHedorBrisaOro.png alt=\"\"></img></td></tr><tr><td><img class=\"game\" src=./ImagenesCasillasWumpus/CasillaVacia.png alt=\"\"></img></td><td><img class=\"game\" src=./ImagenesCasillasWumpus/CasillaBrisa.png alt=\"\"></img></td><td><img class=\"game\" src=./ImagenesCasillasWumpus/CasillaHedorBrisa.png alt=\"\"></img></td><td><img class=\"game\" src=./ImagenesCasillasWumpus/CasillaHueco.png alt=\"\"></img></td></tr><tr><td><img class=\"game\" src=./ImagenesCasillasWumpus/CasillaBrisa.png alt=\"\"></img></td><td><img class=\"game\" src=./ImagenesCasillasWumpus/CasillaHueco.png alt=\"\"></img></td><td><img class=\"game\" src=./ImagenesCasillasWumpus/CasillaBrisa.png alt=\"\"></img></td><td><img class=\"game\" src=./ImagenesCasillasWumpus/CasillaBrisa.png alt=\"\"></img></td></tr></table>"
      ],
      "text/plain": [
       "<IPython.core.display.HTML object>"
      ]
     },
     "metadata": {},
     "output_type": "display_data"
    },
    {
     "name": "stdin",
     "output_type": "stream",
     "text": [
      "¿Deseas continuar? (s/n):  s\n"
     ]
    },
    {
     "name": "stdout",
     "output_type": "stream",
     "text": [
      "#########################################\n",
      "#                                       #\n",
      "#         TURNO DE LOS HUECOS           #\n",
      "#                                       #\n",
      "#########################################\n",
      "\n"
     ]
    },
    {
     "data": {
      "text/html": [
       "<style> img.game {width: 37px !important; height: 22px !important;}</style><table><tr><td><img class=\"game\" src=./ImagenesCasillasWumpus/CasillaHueco.png alt=\"\"></img></td><td><img class=\"game\" src=./ImagenesCasillasWumpus/CasillaBrisa.png alt=\"\"></img></td><td><img class=\"game\" src=./ImagenesCasillasWumpus/CasillaHedor.png alt=\"\"></img></td><td><img class=\"game\" src=./ImagenesCasillasWumpus/CasillaVacia.png alt=\"\"></img></td></tr><tr><td><img class=\"game\" src=./ImagenesCasillasWumpus/CasillaAgenteBrisa.png alt=\"\"></img></td><td><img class=\"game\" src=./ImagenesCasillasWumpus/CasillaHedor.png alt=\"\"></img></td><td><img class=\"game\" src=./ImagenesCasillasWumpus/CasillaWumpus.png alt=\"\"></img></td><td><img class=\"game\" src=./ImagenesCasillasWumpus/CasillaHedorOro.png alt=\"\"></img></td></tr><tr><td><img class=\"game\" src=./ImagenesCasillasWumpus/CasillaHueco.png alt=\"\"></img></td><td><img class=\"game\" src=./ImagenesCasillasWumpus/CasillaBrisa.png alt=\"\"></img></td><td><img class=\"game\" src=./ImagenesCasillasWumpus/CasillaHedor.png alt=\"\"></img></td><td><img class=\"game\" src=./ImagenesCasillasWumpus/CasillaVacia.png alt=\"\"></img></td></tr><tr><td><img class=\"game\" src=./ImagenesCasillasWumpus/CasillaBrisa.png alt=\"\"></img></td><td><img class=\"game\" src=./ImagenesCasillasWumpus/CasillaVacia.png alt=\"\"></img></td><td><img class=\"game\" src=./ImagenesCasillasWumpus/CasillaVacia.png alt=\"\"></img></td><td><img class=\"game\" src=./ImagenesCasillasWumpus/CasillaVacia.png alt=\"\"></img></td></tr></table>"
      ],
      "text/plain": [
       "<IPython.core.display.HTML object>"
      ]
     },
     "metadata": {},
     "output_type": "display_data"
    },
    {
     "name": "stdin",
     "output_type": "stream",
     "text": [
      "¿Deseas continuar? (s/n):  s\n"
     ]
    },
    {
     "name": "stdout",
     "output_type": "stream",
     "text": [
      "#########################################\n",
      "#                                       #\n",
      "#           TURNO DEL AGENTE            #\n",
      "#                                       #\n",
      "#########################################\n",
      "\n"
     ]
    },
    {
     "data": {
      "text/html": [
       "<style> img.game {width: 37px !important; height: 22px !important;}</style><table><tr><td><img class=\"game\" src=./ImagenesCasillasWumpus/CasillaAgenteHueco.png alt=\"\"></img></td><td><img class=\"game\" src=./ImagenesCasillasWumpus/CasillaBrisa.png alt=\"\"></img></td><td><img class=\"game\" src=./ImagenesCasillasWumpus/CasillaHedor.png alt=\"\"></img></td><td><img class=\"game\" src=./ImagenesCasillasWumpus/CasillaVacia.png alt=\"\"></img></td></tr><tr><td><img class=\"game\" src=./ImagenesCasillasWumpus/CasillaBrisa.png alt=\"\"></img></td><td><img class=\"game\" src=./ImagenesCasillasWumpus/CasillaHedor.png alt=\"\"></img></td><td><img class=\"game\" src=./ImagenesCasillasWumpus/CasillaWumpus.png alt=\"\"></img></td><td><img class=\"game\" src=./ImagenesCasillasWumpus/CasillaHedorOro.png alt=\"\"></img></td></tr><tr><td><img class=\"game\" src=./ImagenesCasillasWumpus/CasillaHueco.png alt=\"\"></img></td><td><img class=\"game\" src=./ImagenesCasillasWumpus/CasillaBrisa.png alt=\"\"></img></td><td><img class=\"game\" src=./ImagenesCasillasWumpus/CasillaHedor.png alt=\"\"></img></td><td><img class=\"game\" src=./ImagenesCasillasWumpus/CasillaVacia.png alt=\"\"></img></td></tr><tr><td><img class=\"game\" src=./ImagenesCasillasWumpus/CasillaBrisa.png alt=\"\"></img></td><td><img class=\"game\" src=./ImagenesCasillasWumpus/CasillaVacia.png alt=\"\"></img></td><td><img class=\"game\" src=./ImagenesCasillasWumpus/CasillaVacia.png alt=\"\"></img></td><td><img class=\"game\" src=./ImagenesCasillasWumpus/CasillaVacia.png alt=\"\"></img></td></tr></table>"
      ],
      "text/plain": [
       "<IPython.core.display.HTML object>"
      ]
     },
     "metadata": {},
     "output_type": "display_data"
    },
    {
     "name": "stdin",
     "output_type": "stream",
     "text": [
      "¿Deseas continuar? (s/n):  s\n"
     ]
    },
    {
     "name": "stdout",
     "output_type": "stream",
     "text": [
      "#########################################\n",
      "#                                       #\n",
      "#         TURNO DE LOS HUECOS           #\n",
      "#                                       #\n",
      "#########################################\n",
      "\n"
     ]
    },
    {
     "data": {
      "text/html": [
       "<style> img.game {width: 37px !important; height: 22px !important;}</style><table><tr><td><img class=\"game\" src=./ImagenesCasillasWumpus/CasillaAgente.png alt=\"\"></img></td><td><img class=\"game\" src=./ImagenesCasillasWumpus/CasillaVacia.png alt=\"\"></img></td><td><img class=\"game\" src=./ImagenesCasillasWumpus/CasillaHedorBrisa.png alt=\"\"></img></td><td><img class=\"game\" src=./ImagenesCasillasWumpus/CasillaHueco.png alt=\"\"></img></td></tr><tr><td><img class=\"game\" src=./ImagenesCasillasWumpus/CasillaVacia.png alt=\"\"></img></td><td><img class=\"game\" src=./ImagenesCasillasWumpus/CasillaHedor.png alt=\"\"></img></td><td><img class=\"game\" src=./ImagenesCasillasWumpus/CasillaWumpus.png alt=\"\"></img></td><td><img class=\"game\" src=./ImagenesCasillasWumpus/CasillaHedorBrisaOro.png alt=\"\"></img></td></tr><tr><td><img class=\"game\" src=./ImagenesCasillasWumpus/CasillaVacia.png alt=\"\"></img></td><td><img class=\"game\" src=./ImagenesCasillasWumpus/CasillaBrisa.png alt=\"\"></img></td><td><img class=\"game\" src=./ImagenesCasillasWumpus/CasillaHedor.png alt=\"\"></img></td><td><img class=\"game\" src=./ImagenesCasillasWumpus/CasillaVacia.png alt=\"\"></img></td></tr><tr><td><img class=\"game\" src=./ImagenesCasillasWumpus/CasillaBrisa.png alt=\"\"></img></td><td><img class=\"game\" src=./ImagenesCasillasWumpus/CasillaHueco.png alt=\"\"></img></td><td><img class=\"game\" src=./ImagenesCasillasWumpus/CasillaBrisa.png alt=\"\"></img></td><td><img class=\"game\" src=./ImagenesCasillasWumpus/CasillaVacia.png alt=\"\"></img></td></tr></table>"
      ],
      "text/plain": [
       "<IPython.core.display.HTML object>"
      ]
     },
     "metadata": {},
     "output_type": "display_data"
    },
    {
     "name": "stdin",
     "output_type": "stream",
     "text": [
      "¿Deseas continuar? (s/n):  s\n"
     ]
    },
    {
     "name": "stdout",
     "output_type": "stream",
     "text": [
      "#########################################\n",
      "#                                       #\n",
      "#           TURNO DEL AGENTE            #\n",
      "#                                       #\n",
      "#########################################\n",
      "\n"
     ]
    },
    {
     "data": {
      "text/html": [
       "<style> img.game {width: 37px !important; height: 22px !important;}</style><table><tr><td><img class=\"game\" src=./ImagenesCasillasWumpus/CasillaVacia.png alt=\"\"></img></td><td><img class=\"game\" src=./ImagenesCasillasWumpus/CasillaAgente.png alt=\"\"></img></td><td><img class=\"game\" src=./ImagenesCasillasWumpus/CasillaHedorBrisa.png alt=\"\"></img></td><td><img class=\"game\" src=./ImagenesCasillasWumpus/CasillaHueco.png alt=\"\"></img></td></tr><tr><td><img class=\"game\" src=./ImagenesCasillasWumpus/CasillaVacia.png alt=\"\"></img></td><td><img class=\"game\" src=./ImagenesCasillasWumpus/CasillaHedor.png alt=\"\"></img></td><td><img class=\"game\" src=./ImagenesCasillasWumpus/CasillaWumpus.png alt=\"\"></img></td><td><img class=\"game\" src=./ImagenesCasillasWumpus/CasillaHedorBrisaOro.png alt=\"\"></img></td></tr><tr><td><img class=\"game\" src=./ImagenesCasillasWumpus/CasillaVacia.png alt=\"\"></img></td><td><img class=\"game\" src=./ImagenesCasillasWumpus/CasillaBrisa.png alt=\"\"></img></td><td><img class=\"game\" src=./ImagenesCasillasWumpus/CasillaHedor.png alt=\"\"></img></td><td><img class=\"game\" src=./ImagenesCasillasWumpus/CasillaVacia.png alt=\"\"></img></td></tr><tr><td><img class=\"game\" src=./ImagenesCasillasWumpus/CasillaBrisa.png alt=\"\"></img></td><td><img class=\"game\" src=./ImagenesCasillasWumpus/CasillaHueco.png alt=\"\"></img></td><td><img class=\"game\" src=./ImagenesCasillasWumpus/CasillaBrisa.png alt=\"\"></img></td><td><img class=\"game\" src=./ImagenesCasillasWumpus/CasillaVacia.png alt=\"\"></img></td></tr></table>"
      ],
      "text/plain": [
       "<IPython.core.display.HTML object>"
      ]
     },
     "metadata": {},
     "output_type": "display_data"
    },
    {
     "name": "stdin",
     "output_type": "stream",
     "text": [
      "¿Deseas continuar? (s/n):  s\n"
     ]
    },
    {
     "name": "stdout",
     "output_type": "stream",
     "text": [
      "#########################################\n",
      "#                                       #\n",
      "#         TURNO DE LOS HUECOS           #\n",
      "#                                       #\n",
      "#########################################\n",
      "\n"
     ]
    },
    {
     "data": {
      "text/html": [
       "<style> img.game {width: 37px !important; height: 22px !important;}</style><table><tr><td><img class=\"game\" src=./ImagenesCasillasWumpus/CasillaHueco.png alt=\"\"></img></td><td><img class=\"game\" src=./ImagenesCasillasWumpus/CasillaAgenteBrisa.png alt=\"\"></img></td><td><img class=\"game\" src=./ImagenesCasillasWumpus/CasillaHedorBrisa.png alt=\"\"></img></td><td><img class=\"game\" src=./ImagenesCasillasWumpus/CasillaHueco.png alt=\"\"></img></td></tr><tr><td><img class=\"game\" src=./ImagenesCasillasWumpus/CasillaBrisa.png alt=\"\"></img></td><td><img class=\"game\" src=./ImagenesCasillasWumpus/CasillaHedor.png alt=\"\"></img></td><td><img class=\"game\" src=./ImagenesCasillasWumpus/CasillaWumpus.png alt=\"\"></img></td><td><img class=\"game\" src=./ImagenesCasillasWumpus/CasillaHedorBrisaOro.png alt=\"\"></img></td></tr><tr><td><img class=\"game\" src=./ImagenesCasillasWumpus/CasillaVacia.png alt=\"\"></img></td><td><img class=\"game\" src=./ImagenesCasillasWumpus/CasillaVacia.png alt=\"\"></img></td><td><img class=\"game\" src=./ImagenesCasillasWumpus/CasillaHedor.png alt=\"\"></img></td><td><img class=\"game\" src=./ImagenesCasillasWumpus/CasillaVacia.png alt=\"\"></img></td></tr><tr><td><img class=\"game\" src=./ImagenesCasillasWumpus/CasillaVacia.png alt=\"\"></img></td><td><img class=\"game\" src=./ImagenesCasillasWumpus/CasillaVacia.png alt=\"\"></img></td><td><img class=\"game\" src=./ImagenesCasillasWumpus/CasillaVacia.png alt=\"\"></img></td><td><img class=\"game\" src=./ImagenesCasillasWumpus/CasillaVacia.png alt=\"\"></img></td></tr></table>"
      ],
      "text/plain": [
       "<IPython.core.display.HTML object>"
      ]
     },
     "metadata": {},
     "output_type": "display_data"
    },
    {
     "name": "stdin",
     "output_type": "stream",
     "text": [
      "¿Deseas continuar? (s/n):  s\n"
     ]
    },
    {
     "name": "stdout",
     "output_type": "stream",
     "text": [
      "#########################################\n",
      "#                                       #\n",
      "#           TURNO DEL AGENTE            #\n",
      "#                                       #\n",
      "#########################################\n",
      "\n"
     ]
    },
    {
     "data": {
      "text/html": [
       "<style> img.game {width: 37px !important; height: 22px !important;}</style><table><tr><td><img class=\"game\" src=./ImagenesCasillasWumpus/CasillaHueco.png alt=\"\"></img></td><td><img class=\"game\" src=./ImagenesCasillasWumpus/CasillaBrisa.png alt=\"\"></img></td><td><img class=\"game\" src=./ImagenesCasillasWumpus/CasillaHedorBrisa.png alt=\"\"></img></td><td><img class=\"game\" src=./ImagenesCasillasWumpus/CasillaHueco.png alt=\"\"></img></td></tr><tr><td><img class=\"game\" src=./ImagenesCasillasWumpus/CasillaBrisa.png alt=\"\"></img></td><td><img class=\"game\" src=./ImagenesCasillasWumpus/CasillaAgenteHedor.png alt=\"\"></img></td><td><img class=\"game\" src=./ImagenesCasillasWumpus/CasillaWumpus.png alt=\"\"></img></td><td><img class=\"game\" src=./ImagenesCasillasWumpus/CasillaHedorBrisaOro.png alt=\"\"></img></td></tr><tr><td><img class=\"game\" src=./ImagenesCasillasWumpus/CasillaVacia.png alt=\"\"></img></td><td><img class=\"game\" src=./ImagenesCasillasWumpus/CasillaVacia.png alt=\"\"></img></td><td><img class=\"game\" src=./ImagenesCasillasWumpus/CasillaHedor.png alt=\"\"></img></td><td><img class=\"game\" src=./ImagenesCasillasWumpus/CasillaVacia.png alt=\"\"></img></td></tr><tr><td><img class=\"game\" src=./ImagenesCasillasWumpus/CasillaVacia.png alt=\"\"></img></td><td><img class=\"game\" src=./ImagenesCasillasWumpus/CasillaVacia.png alt=\"\"></img></td><td><img class=\"game\" src=./ImagenesCasillasWumpus/CasillaVacia.png alt=\"\"></img></td><td><img class=\"game\" src=./ImagenesCasillasWumpus/CasillaVacia.png alt=\"\"></img></td></tr></table>"
      ],
      "text/plain": [
       "<IPython.core.display.HTML object>"
      ]
     },
     "metadata": {},
     "output_type": "display_data"
    },
    {
     "name": "stdin",
     "output_type": "stream",
     "text": [
      "¿Deseas continuar? (s/n):  s\n"
     ]
    },
    {
     "name": "stdout",
     "output_type": "stream",
     "text": [
      "#########################################\n",
      "#                                       #\n",
      "#         TURNO DE LOS HUECOS           #\n",
      "#                                       #\n",
      "#########################################\n",
      "\n"
     ]
    },
    {
     "data": {
      "text/html": [
       "<style> img.game {width: 37px !important; height: 22px !important;}</style><table><tr><td><img class=\"game\" src=./ImagenesCasillasWumpus/CasillaVacia.png alt=\"\"></img></td><td><img class=\"game\" src=./ImagenesCasillasWumpus/CasillaVacia.png alt=\"\"></img></td><td><img class=\"game\" src=./ImagenesCasillasWumpus/CasillaHedor.png alt=\"\"></img></td><td><img class=\"game\" src=./ImagenesCasillasWumpus/CasillaVacia.png alt=\"\"></img></td></tr><tr><td><img class=\"game\" src=./ImagenesCasillasWumpus/CasillaVacia.png alt=\"\"></img></td><td><img class=\"game\" src=./ImagenesCasillasWumpus/CasillaAgenteHedor.png alt=\"\"></img></td><td><img class=\"game\" src=./ImagenesCasillasWumpus/CasillaWumpus.png alt=\"\"></img></td><td><img class=\"game\" src=./ImagenesCasillasWumpus/CasillaHedorBrisaOro.png alt=\"\"></img></td></tr><tr><td><img class=\"game\" src=./ImagenesCasillasWumpus/CasillaBrisa.png alt=\"\"></img></td><td><img class=\"game\" src=./ImagenesCasillasWumpus/CasillaVacia.png alt=\"\"></img></td><td><img class=\"game\" src=./ImagenesCasillasWumpus/CasillaHedorBrisa.png alt=\"\"></img></td><td><img class=\"game\" src=./ImagenesCasillasWumpus/CasillaHueco.png alt=\"\"></img></td></tr><tr><td><img class=\"game\" src=./ImagenesCasillasWumpus/CasillaHueco.png alt=\"\"></img></td><td><img class=\"game\" src=./ImagenesCasillasWumpus/CasillaBrisa.png alt=\"\"></img></td><td><img class=\"game\" src=./ImagenesCasillasWumpus/CasillaVacia.png alt=\"\"></img></td><td><img class=\"game\" src=./ImagenesCasillasWumpus/CasillaBrisa.png alt=\"\"></img></td></tr></table>"
      ],
      "text/plain": [
       "<IPython.core.display.HTML object>"
      ]
     },
     "metadata": {},
     "output_type": "display_data"
    },
    {
     "name": "stdin",
     "output_type": "stream",
     "text": [
      "¿Deseas continuar? (s/n):  s\n"
     ]
    },
    {
     "name": "stdout",
     "output_type": "stream",
     "text": [
      "#########################################\n",
      "#                                       #\n",
      "#           TURNO DEL AGENTE            #\n",
      "#                                       #\n",
      "#########################################\n",
      "\n"
     ]
    },
    {
     "data": {
      "text/html": [
       "<style> img.game {width: 37px !important; height: 22px !important;}</style><table><tr><td><img class=\"game\" src=./ImagenesCasillasWumpus/CasillaVacia.png alt=\"\"></img></td><td><img class=\"game\" src=./ImagenesCasillasWumpus/CasillaAgente.png alt=\"\"></img></td><td><img class=\"game\" src=./ImagenesCasillasWumpus/CasillaHedor.png alt=\"\"></img></td><td><img class=\"game\" src=./ImagenesCasillasWumpus/CasillaVacia.png alt=\"\"></img></td></tr><tr><td><img class=\"game\" src=./ImagenesCasillasWumpus/CasillaVacia.png alt=\"\"></img></td><td><img class=\"game\" src=./ImagenesCasillasWumpus/CasillaHedor.png alt=\"\"></img></td><td><img class=\"game\" src=./ImagenesCasillasWumpus/CasillaWumpus.png alt=\"\"></img></td><td><img class=\"game\" src=./ImagenesCasillasWumpus/CasillaHedorBrisaOro.png alt=\"\"></img></td></tr><tr><td><img class=\"game\" src=./ImagenesCasillasWumpus/CasillaBrisa.png alt=\"\"></img></td><td><img class=\"game\" src=./ImagenesCasillasWumpus/CasillaVacia.png alt=\"\"></img></td><td><img class=\"game\" src=./ImagenesCasillasWumpus/CasillaHedorBrisa.png alt=\"\"></img></td><td><img class=\"game\" src=./ImagenesCasillasWumpus/CasillaHueco.png alt=\"\"></img></td></tr><tr><td><img class=\"game\" src=./ImagenesCasillasWumpus/CasillaHueco.png alt=\"\"></img></td><td><img class=\"game\" src=./ImagenesCasillasWumpus/CasillaBrisa.png alt=\"\"></img></td><td><img class=\"game\" src=./ImagenesCasillasWumpus/CasillaVacia.png alt=\"\"></img></td><td><img class=\"game\" src=./ImagenesCasillasWumpus/CasillaBrisa.png alt=\"\"></img></td></tr></table>"
      ],
      "text/plain": [
       "<IPython.core.display.HTML object>"
      ]
     },
     "metadata": {},
     "output_type": "display_data"
    },
    {
     "name": "stdin",
     "output_type": "stream",
     "text": [
      "¿Deseas continuar? (s/n):  s\n"
     ]
    },
    {
     "name": "stdout",
     "output_type": "stream",
     "text": [
      "#########################################\n",
      "#                                       #\n",
      "#         TURNO DE LOS HUECOS           #\n",
      "#                                       #\n",
      "#########################################\n",
      "\n"
     ]
    },
    {
     "data": {
      "text/html": [
       "<style> img.game {width: 37px !important; height: 22px !important;}</style><table><tr><td><img class=\"game\" src=./ImagenesCasillasWumpus/CasillaBrisa.png alt=\"\"></img></td><td><img class=\"game\" src=./ImagenesCasillasWumpus/CasillaAgenteHueco.png alt=\"\"></img></td><td><img class=\"game\" src=./ImagenesCasillasWumpus/CasillaHedorBrisa.png alt=\"\"></img></td><td><img class=\"game\" src=./ImagenesCasillasWumpus/CasillaVacia.png alt=\"\"></img></td></tr><tr><td><img class=\"game\" src=./ImagenesCasillasWumpus/CasillaHueco.png alt=\"\"></img></td><td><img class=\"game\" src=./ImagenesCasillasWumpus/CasillaHedorBrisa.png alt=\"\"></img></td><td><img class=\"game\" src=./ImagenesCasillasWumpus/CasillaWumpus.png alt=\"\"></img></td><td><img class=\"game\" src=./ImagenesCasillasWumpus/CasillaHedorOro.png alt=\"\"></img></td></tr><tr><td><img class=\"game\" src=./ImagenesCasillasWumpus/CasillaBrisa.png alt=\"\"></img></td><td><img class=\"game\" src=./ImagenesCasillasWumpus/CasillaVacia.png alt=\"\"></img></td><td><img class=\"game\" src=./ImagenesCasillasWumpus/CasillaHedor.png alt=\"\"></img></td><td><img class=\"game\" src=./ImagenesCasillasWumpus/CasillaVacia.png alt=\"\"></img></td></tr><tr><td><img class=\"game\" src=./ImagenesCasillasWumpus/CasillaVacia.png alt=\"\"></img></td><td><img class=\"game\" src=./ImagenesCasillasWumpus/CasillaVacia.png alt=\"\"></img></td><td><img class=\"game\" src=./ImagenesCasillasWumpus/CasillaVacia.png alt=\"\"></img></td><td><img class=\"game\" src=./ImagenesCasillasWumpus/CasillaVacia.png alt=\"\"></img></td></tr></table>"
      ],
      "text/plain": [
       "<IPython.core.display.HTML object>"
      ]
     },
     "metadata": {},
     "output_type": "display_data"
    },
    {
     "name": "stdin",
     "output_type": "stream",
     "text": [
      "¿Deseas continuar? (s/n):  s\n"
     ]
    },
    {
     "name": "stdout",
     "output_type": "stream",
     "text": [
      "#########################################\n",
      "#                                       #\n",
      "#           TURNO DEL AGENTE            #\n",
      "#                                       #\n",
      "#########################################\n",
      "\n"
     ]
    },
    {
     "data": {
      "text/html": [
       "<style> img.game {width: 37px !important; height: 22px !important;}</style><table><tr><td><img class=\"game\" src=./ImagenesCasillasWumpus/CasillaBrisa.png alt=\"\"></img></td><td><img class=\"game\" src=./ImagenesCasillasWumpus/CasillaHueco.png alt=\"\"></img></td><td><img class=\"game\" src=./ImagenesCasillasWumpus/CasillaHedorBrisa.png alt=\"\"></img></td><td><img class=\"game\" src=./ImagenesCasillasWumpus/CasillaVacia.png alt=\"\"></img></td></tr><tr><td><img class=\"game\" src=./ImagenesCasillasWumpus/CasillaHueco.png alt=\"\"></img></td><td><img class=\"game\" src=./ImagenesCasillasWumpus/CasillaAgenteHedorBrisa.png alt=\"\"></img></td><td><img class=\"game\" src=./ImagenesCasillasWumpus/CasillaWumpus.png alt=\"\"></img></td><td><img class=\"game\" src=./ImagenesCasillasWumpus/CasillaHedorOro.png alt=\"\"></img></td></tr><tr><td><img class=\"game\" src=./ImagenesCasillasWumpus/CasillaBrisa.png alt=\"\"></img></td><td><img class=\"game\" src=./ImagenesCasillasWumpus/CasillaVacia.png alt=\"\"></img></td><td><img class=\"game\" src=./ImagenesCasillasWumpus/CasillaHedor.png alt=\"\"></img></td><td><img class=\"game\" src=./ImagenesCasillasWumpus/CasillaVacia.png alt=\"\"></img></td></tr><tr><td><img class=\"game\" src=./ImagenesCasillasWumpus/CasillaVacia.png alt=\"\"></img></td><td><img class=\"game\" src=./ImagenesCasillasWumpus/CasillaVacia.png alt=\"\"></img></td><td><img class=\"game\" src=./ImagenesCasillasWumpus/CasillaVacia.png alt=\"\"></img></td><td><img class=\"game\" src=./ImagenesCasillasWumpus/CasillaVacia.png alt=\"\"></img></td></tr></table>"
      ],
      "text/plain": [
       "<IPython.core.display.HTML object>"
      ]
     },
     "metadata": {},
     "output_type": "display_data"
    },
    {
     "name": "stdin",
     "output_type": "stream",
     "text": [
      "¿Deseas continuar? (s/n):  s\n"
     ]
    },
    {
     "name": "stdout",
     "output_type": "stream",
     "text": [
      "#########################################\n",
      "#                                       #\n",
      "#         TURNO DE LOS HUECOS           #\n",
      "#                                       #\n",
      "#########################################\n",
      "\n"
     ]
    },
    {
     "data": {
      "text/html": [
       "<style> img.game {width: 37px !important; height: 22px !important;}</style><table><tr><td><img class=\"game\" src=./ImagenesCasillasWumpus/CasillaVacia.png alt=\"\"></img></td><td><img class=\"game\" src=./ImagenesCasillasWumpus/CasillaVacia.png alt=\"\"></img></td><td><img class=\"game\" src=./ImagenesCasillasWumpus/CasillaHedor.png alt=\"\"></img></td><td><img class=\"game\" src=./ImagenesCasillasWumpus/CasillaVacia.png alt=\"\"></img></td></tr><tr><td><img class=\"game\" src=./ImagenesCasillasWumpus/CasillaVacia.png alt=\"\"></img></td><td><img class=\"game\" src=./ImagenesCasillasWumpus/CasillaAgenteHedorBrisa.png alt=\"\"></img></td><td><img class=\"game\" src=./ImagenesCasillasWumpus/CasillaWumpus.png alt=\"\"></img></td><td><img class=\"game\" src=./ImagenesCasillasWumpus/CasillaHedorBrisaOro.png alt=\"\"></img></td></tr><tr><td><img class=\"game\" src=./ImagenesCasillasWumpus/CasillaBrisa.png alt=\"\"></img></td><td><img class=\"game\" src=./ImagenesCasillasWumpus/CasillaHueco.png alt=\"\"></img></td><td><img class=\"game\" src=./ImagenesCasillasWumpus/CasillaHedorBrisa.png alt=\"\"></img></td><td><img class=\"game\" src=./ImagenesCasillasWumpus/CasillaHueco.png alt=\"\"></img></td></tr><tr><td><img class=\"game\" src=./ImagenesCasillasWumpus/CasillaVacia.png alt=\"\"></img></td><td><img class=\"game\" src=./ImagenesCasillasWumpus/CasillaBrisa.png alt=\"\"></img></td><td><img class=\"game\" src=./ImagenesCasillasWumpus/CasillaVacia.png alt=\"\"></img></td><td><img class=\"game\" src=./ImagenesCasillasWumpus/CasillaBrisa.png alt=\"\"></img></td></tr></table>"
      ],
      "text/plain": [
       "<IPython.core.display.HTML object>"
      ]
     },
     "metadata": {},
     "output_type": "display_data"
    },
    {
     "name": "stdin",
     "output_type": "stream",
     "text": [
      "¿Deseas continuar? (s/n):  s\n"
     ]
    },
    {
     "name": "stdout",
     "output_type": "stream",
     "text": [
      "#########################################\n",
      "#                                       #\n",
      "#           TURNO DEL AGENTE            #\n",
      "#                                       #\n",
      "#########################################\n",
      "\n"
     ]
    },
    {
     "data": {
      "text/html": [
       "<style> img.game {width: 37px !important; height: 22px !important;}</style><table><tr><td><img class=\"game\" src=./ImagenesCasillasWumpus/CasillaVacia.png alt=\"\"></img></td><td><img class=\"game\" src=./ImagenesCasillasWumpus/CasillaAgente.png alt=\"\"></img></td><td><img class=\"game\" src=./ImagenesCasillasWumpus/CasillaHedor.png alt=\"\"></img></td><td><img class=\"game\" src=./ImagenesCasillasWumpus/CasillaVacia.png alt=\"\"></img></td></tr><tr><td><img class=\"game\" src=./ImagenesCasillasWumpus/CasillaVacia.png alt=\"\"></img></td><td><img class=\"game\" src=./ImagenesCasillasWumpus/CasillaHedorBrisa.png alt=\"\"></img></td><td><img class=\"game\" src=./ImagenesCasillasWumpus/CasillaWumpus.png alt=\"\"></img></td><td><img class=\"game\" src=./ImagenesCasillasWumpus/CasillaHedorBrisaOro.png alt=\"\"></img></td></tr><tr><td><img class=\"game\" src=./ImagenesCasillasWumpus/CasillaBrisa.png alt=\"\"></img></td><td><img class=\"game\" src=./ImagenesCasillasWumpus/CasillaHueco.png alt=\"\"></img></td><td><img class=\"game\" src=./ImagenesCasillasWumpus/CasillaHedorBrisa.png alt=\"\"></img></td><td><img class=\"game\" src=./ImagenesCasillasWumpus/CasillaHueco.png alt=\"\"></img></td></tr><tr><td><img class=\"game\" src=./ImagenesCasillasWumpus/CasillaVacia.png alt=\"\"></img></td><td><img class=\"game\" src=./ImagenesCasillasWumpus/CasillaBrisa.png alt=\"\"></img></td><td><img class=\"game\" src=./ImagenesCasillasWumpus/CasillaVacia.png alt=\"\"></img></td><td><img class=\"game\" src=./ImagenesCasillasWumpus/CasillaBrisa.png alt=\"\"></img></td></tr></table>"
      ],
      "text/plain": [
       "<IPython.core.display.HTML object>"
      ]
     },
     "metadata": {},
     "output_type": "display_data"
    },
    {
     "name": "stdin",
     "output_type": "stream",
     "text": [
      "¿Deseas continuar? (s/n):  s\n"
     ]
    },
    {
     "name": "stdout",
     "output_type": "stream",
     "text": [
      "#########################################\n",
      "#                                       #\n",
      "#         TURNO DE LOS HUECOS           #\n",
      "#                                       #\n",
      "#########################################\n",
      "\n"
     ]
    },
    {
     "data": {
      "text/html": [
       "<style> img.game {width: 37px !important; height: 22px !important;}</style><table><tr><td><img class=\"game\" src=./ImagenesCasillasWumpus/CasillaVacia.png alt=\"\"></img></td><td><img class=\"game\" src=./ImagenesCasillasWumpus/CasillaAgente.png alt=\"\"></img></td><td><img class=\"game\" src=./ImagenesCasillasWumpus/CasillaHedor.png alt=\"\"></img></td><td><img class=\"game\" src=./ImagenesCasillasWumpus/CasillaVacia.png alt=\"\"></img></td></tr><tr><td><img class=\"game\" src=./ImagenesCasillasWumpus/CasillaVacia.png alt=\"\"></img></td><td><img class=\"game\" src=./ImagenesCasillasWumpus/CasillaHedor.png alt=\"\"></img></td><td><img class=\"game\" src=./ImagenesCasillasWumpus/CasillaWumpus.png alt=\"\"></img></td><td><img class=\"game\" src=./ImagenesCasillasWumpus/CasillaHedorOro.png alt=\"\"></img></td></tr><tr><td><img class=\"game\" src=./ImagenesCasillasWumpus/CasillaBrisa.png alt=\"\"></img></td><td><img class=\"game\" src=./ImagenesCasillasWumpus/CasillaVacia.png alt=\"\"></img></td><td><img class=\"game\" src=./ImagenesCasillasWumpus/CasillaHedorBrisa.png alt=\"\"></img></td><td><img class=\"game\" src=./ImagenesCasillasWumpus/CasillaVacia.png alt=\"\"></img></td></tr><tr><td><img class=\"game\" src=./ImagenesCasillasWumpus/CasillaHueco.png alt=\"\"></img></td><td><img class=\"game\" src=./ImagenesCasillasWumpus/CasillaBrisa.png alt=\"\"></img></td><td><img class=\"game\" src=./ImagenesCasillasWumpus/CasillaHueco.png alt=\"\"></img></td><td><img class=\"game\" src=./ImagenesCasillasWumpus/CasillaBrisa.png alt=\"\"></img></td></tr></table>"
      ],
      "text/plain": [
       "<IPython.core.display.HTML object>"
      ]
     },
     "metadata": {},
     "output_type": "display_data"
    },
    {
     "name": "stdin",
     "output_type": "stream",
     "text": [
      "¿Deseas continuar? (s/n):  s\n"
     ]
    },
    {
     "name": "stdout",
     "output_type": "stream",
     "text": [
      "#########################################\n",
      "#                                       #\n",
      "#           TURNO DEL AGENTE            #\n",
      "#                                       #\n",
      "#########################################\n",
      "\n"
     ]
    },
    {
     "data": {
      "text/html": [
       "<style> img.game {width: 37px !important; height: 22px !important;}</style><table><tr><td><img class=\"game\" src=./ImagenesCasillasWumpus/CasillaVacia.png alt=\"\"></img></td><td><img class=\"game\" src=./ImagenesCasillasWumpus/CasillaVacia.png alt=\"\"></img></td><td><img class=\"game\" src=./ImagenesCasillasWumpus/CasillaAgenteHedor.png alt=\"\"></img></td><td><img class=\"game\" src=./ImagenesCasillasWumpus/CasillaVacia.png alt=\"\"></img></td></tr><tr><td><img class=\"game\" src=./ImagenesCasillasWumpus/CasillaVacia.png alt=\"\"></img></td><td><img class=\"game\" src=./ImagenesCasillasWumpus/CasillaHedor.png alt=\"\"></img></td><td><img class=\"game\" src=./ImagenesCasillasWumpus/CasillaWumpus.png alt=\"\"></img></td><td><img class=\"game\" src=./ImagenesCasillasWumpus/CasillaHedorOro.png alt=\"\"></img></td></tr><tr><td><img class=\"game\" src=./ImagenesCasillasWumpus/CasillaBrisa.png alt=\"\"></img></td><td><img class=\"game\" src=./ImagenesCasillasWumpus/CasillaVacia.png alt=\"\"></img></td><td><img class=\"game\" src=./ImagenesCasillasWumpus/CasillaHedorBrisa.png alt=\"\"></img></td><td><img class=\"game\" src=./ImagenesCasillasWumpus/CasillaVacia.png alt=\"\"></img></td></tr><tr><td><img class=\"game\" src=./ImagenesCasillasWumpus/CasillaHueco.png alt=\"\"></img></td><td><img class=\"game\" src=./ImagenesCasillasWumpus/CasillaBrisa.png alt=\"\"></img></td><td><img class=\"game\" src=./ImagenesCasillasWumpus/CasillaHueco.png alt=\"\"></img></td><td><img class=\"game\" src=./ImagenesCasillasWumpus/CasillaBrisa.png alt=\"\"></img></td></tr></table>"
      ],
      "text/plain": [
       "<IPython.core.display.HTML object>"
      ]
     },
     "metadata": {},
     "output_type": "display_data"
    },
    {
     "name": "stdin",
     "output_type": "stream",
     "text": [
      "¿Deseas continuar? (s/n):  s\n"
     ]
    },
    {
     "name": "stdout",
     "output_type": "stream",
     "text": [
      "#########################################\n",
      "#                                       #\n",
      "#         TURNO DE LOS HUECOS           #\n",
      "#                                       #\n",
      "#########################################\n",
      "\n"
     ]
    },
    {
     "data": {
      "text/html": [
       "<style> img.game {width: 37px !important; height: 22px !important;}</style><table><tr><td><img class=\"game\" src=./ImagenesCasillasWumpus/CasillaVacia.png alt=\"\"></img></td><td><img class=\"game\" src=./ImagenesCasillasWumpus/CasillaVacia.png alt=\"\"></img></td><td><img class=\"game\" src=./ImagenesCasillasWumpus/CasillaAgenteHedor.png alt=\"\"></img></td><td><img class=\"game\" src=./ImagenesCasillasWumpus/CasillaVacia.png alt=\"\"></img></td></tr><tr><td><img class=\"game\" src=./ImagenesCasillasWumpus/CasillaBrisa.png alt=\"\"></img></td><td><img class=\"game\" src=./ImagenesCasillasWumpus/CasillaHedor.png alt=\"\"></img></td><td><img class=\"game\" src=./ImagenesCasillasWumpus/CasillaWumpus.png alt=\"\"></img></td><td><img class=\"game\" src=./ImagenesCasillasWumpus/CasillaHedorOro.png alt=\"\"></img></td></tr><tr><td><img class=\"game\" src=./ImagenesCasillasWumpus/CasillaHueco.png alt=\"\"></img></td><td><img class=\"game\" src=./ImagenesCasillasWumpus/CasillaBrisa.png alt=\"\"></img></td><td><img class=\"game\" src=./ImagenesCasillasWumpus/CasillaHedor.png alt=\"\"></img></td><td><img class=\"game\" src=./ImagenesCasillasWumpus/CasillaBrisa.png alt=\"\"></img></td></tr><tr><td><img class=\"game\" src=./ImagenesCasillasWumpus/CasillaBrisa.png alt=\"\"></img></td><td><img class=\"game\" src=./ImagenesCasillasWumpus/CasillaVacia.png alt=\"\"></img></td><td><img class=\"game\" src=./ImagenesCasillasWumpus/CasillaBrisa.png alt=\"\"></img></td><td><img class=\"game\" src=./ImagenesCasillasWumpus/CasillaHueco.png alt=\"\"></img></td></tr></table>"
      ],
      "text/plain": [
       "<IPython.core.display.HTML object>"
      ]
     },
     "metadata": {},
     "output_type": "display_data"
    },
    {
     "name": "stdin",
     "output_type": "stream",
     "text": [
      "¿Deseas continuar? (s/n):  s\n"
     ]
    },
    {
     "name": "stdout",
     "output_type": "stream",
     "text": [
      "#########################################\n",
      "#                                       #\n",
      "#           TURNO DEL AGENTE            #\n",
      "#                                       #\n",
      "#########################################\n",
      "\n"
     ]
    },
    {
     "data": {
      "text/html": [
       "<style> img.game {width: 37px !important; height: 22px !important;}</style><table><tr><td><img class=\"game\" src=./ImagenesCasillasWumpus/CasillaVacia.png alt=\"\"></img></td><td><img class=\"game\" src=./ImagenesCasillasWumpus/CasillaVacia.png alt=\"\"></img></td><td><img class=\"game\" src=./ImagenesCasillasWumpus/CasillaHedor.png alt=\"\"></img></td><td><img class=\"game\" src=./ImagenesCasillasWumpus/CasillaAgente.png alt=\"\"></img></td></tr><tr><td><img class=\"game\" src=./ImagenesCasillasWumpus/CasillaBrisa.png alt=\"\"></img></td><td><img class=\"game\" src=./ImagenesCasillasWumpus/CasillaHedor.png alt=\"\"></img></td><td><img class=\"game\" src=./ImagenesCasillasWumpus/CasillaWumpus.png alt=\"\"></img></td><td><img class=\"game\" src=./ImagenesCasillasWumpus/CasillaHedorOro.png alt=\"\"></img></td></tr><tr><td><img class=\"game\" src=./ImagenesCasillasWumpus/CasillaHueco.png alt=\"\"></img></td><td><img class=\"game\" src=./ImagenesCasillasWumpus/CasillaBrisa.png alt=\"\"></img></td><td><img class=\"game\" src=./ImagenesCasillasWumpus/CasillaHedor.png alt=\"\"></img></td><td><img class=\"game\" src=./ImagenesCasillasWumpus/CasillaBrisa.png alt=\"\"></img></td></tr><tr><td><img class=\"game\" src=./ImagenesCasillasWumpus/CasillaBrisa.png alt=\"\"></img></td><td><img class=\"game\" src=./ImagenesCasillasWumpus/CasillaVacia.png alt=\"\"></img></td><td><img class=\"game\" src=./ImagenesCasillasWumpus/CasillaBrisa.png alt=\"\"></img></td><td><img class=\"game\" src=./ImagenesCasillasWumpus/CasillaHueco.png alt=\"\"></img></td></tr></table>"
      ],
      "text/plain": [
       "<IPython.core.display.HTML object>"
      ]
     },
     "metadata": {},
     "output_type": "display_data"
    },
    {
     "name": "stdin",
     "output_type": "stream",
     "text": [
      "¿Deseas continuar? (s/n):  s\n"
     ]
    },
    {
     "name": "stdout",
     "output_type": "stream",
     "text": [
      "#########################################\n",
      "#                                       #\n",
      "#         TURNO DE LOS HUECOS           #\n",
      "#                                       #\n",
      "#########################################\n",
      "\n"
     ]
    },
    {
     "data": {
      "text/html": [
       "<style> img.game {width: 37px !important; height: 22px !important;}</style><table><tr><td><img class=\"game\" src=./ImagenesCasillasWumpus/CasillaVacia.png alt=\"\"></img></td><td><img class=\"game\" src=./ImagenesCasillasWumpus/CasillaVacia.png alt=\"\"></img></td><td><img class=\"game\" src=./ImagenesCasillasWumpus/CasillaHedor.png alt=\"\"></img></td><td><img class=\"game\" src=./ImagenesCasillasWumpus/CasillaAgente.png alt=\"\"></img></td></tr><tr><td><img class=\"game\" src=./ImagenesCasillasWumpus/CasillaVacia.png alt=\"\"></img></td><td><img class=\"game\" src=./ImagenesCasillasWumpus/CasillaHedor.png alt=\"\"></img></td><td><img class=\"game\" src=./ImagenesCasillasWumpus/CasillaWumpus.png alt=\"\"></img></td><td><img class=\"game\" src=./ImagenesCasillasWumpus/CasillaHedorOro.png alt=\"\"></img></td></tr><tr><td><img class=\"game\" src=./ImagenesCasillasWumpus/CasillaVacia.png alt=\"\"></img></td><td><img class=\"game\" src=./ImagenesCasillasWumpus/CasillaBrisa.png alt=\"\"></img></td><td><img class=\"game\" src=./ImagenesCasillasWumpus/CasillaHedor.png alt=\"\"></img></td><td><img class=\"game\" src=./ImagenesCasillasWumpus/CasillaBrisa.png alt=\"\"></img></td></tr><tr><td><img class=\"game\" src=./ImagenesCasillasWumpus/CasillaBrisa.png alt=\"\"></img></td><td><img class=\"game\" src=./ImagenesCasillasWumpus/CasillaHueco.png alt=\"\"></img></td><td><img class=\"game\" src=./ImagenesCasillasWumpus/CasillaBrisa.png alt=\"\"></img></td><td><img class=\"game\" src=./ImagenesCasillasWumpus/CasillaHueco.png alt=\"\"></img></td></tr></table>"
      ],
      "text/plain": [
       "<IPython.core.display.HTML object>"
      ]
     },
     "metadata": {},
     "output_type": "display_data"
    },
    {
     "name": "stdin",
     "output_type": "stream",
     "text": [
      "¿Deseas continuar? (s/n):  s\n"
     ]
    },
    {
     "name": "stdout",
     "output_type": "stream",
     "text": [
      "#########################################\n",
      "#                                       #\n",
      "#           TURNO DEL AGENTE            #\n",
      "#                                       #\n",
      "#########################################\n",
      "\n"
     ]
    },
    {
     "data": {
      "text/html": [
       "<style> img.game {width: 37px !important; height: 22px !important;}</style><table><tr><td><img class=\"game\" src=./ImagenesCasillasWumpus/CasillaVacia.png alt=\"\"></img></td><td><img class=\"game\" src=./ImagenesCasillasWumpus/CasillaVacia.png alt=\"\"></img></td><td><img class=\"game\" src=./ImagenesCasillasWumpus/CasillaHedor.png alt=\"\"></img></td><td><img class=\"game\" src=./ImagenesCasillasWumpus/CasillaVacia.png alt=\"\"></img></td></tr><tr><td><img class=\"game\" src=./ImagenesCasillasWumpus/CasillaVacia.png alt=\"\"></img></td><td><img class=\"game\" src=./ImagenesCasillasWumpus/CasillaHedor.png alt=\"\"></img></td><td><img class=\"game\" src=./ImagenesCasillasWumpus/CasillaWumpus.png alt=\"\"></img></td><td><img class=\"game\" src=./ImagenesCasillasWumpus/CasillaAgenteHedorOro.png alt=\"\"></img></td></tr><tr><td><img class=\"game\" src=./ImagenesCasillasWumpus/CasillaVacia.png alt=\"\"></img></td><td><img class=\"game\" src=./ImagenesCasillasWumpus/CasillaBrisa.png alt=\"\"></img></td><td><img class=\"game\" src=./ImagenesCasillasWumpus/CasillaHedor.png alt=\"\"></img></td><td><img class=\"game\" src=./ImagenesCasillasWumpus/CasillaBrisa.png alt=\"\"></img></td></tr><tr><td><img class=\"game\" src=./ImagenesCasillasWumpus/CasillaBrisa.png alt=\"\"></img></td><td><img class=\"game\" src=./ImagenesCasillasWumpus/CasillaHueco.png alt=\"\"></img></td><td><img class=\"game\" src=./ImagenesCasillasWumpus/CasillaBrisa.png alt=\"\"></img></td><td><img class=\"game\" src=./ImagenesCasillasWumpus/CasillaHueco.png alt=\"\"></img></td></tr></table>"
      ],
      "text/plain": [
       "<IPython.core.display.HTML object>"
      ]
     },
     "metadata": {},
     "output_type": "display_data"
    },
    {
     "ename": "NameError",
     "evalue": "name 'casila' is not defined",
     "output_type": "error",
     "traceback": [
      "\u001b[1;31m---------------------------------------------------------------------------\u001b[0m",
      "\u001b[1;31mNameError\u001b[0m                                 Traceback (most recent call last)",
      "Cell \u001b[1;32mIn[5], line 102\u001b[0m\n\u001b[0;32m    100\u001b[0m     \u001b[38;5;28mprint\u001b[39m(\u001b[38;5;124m\"\u001b[39m\u001b[38;5;124mEl Wumpus ha matado al agente...\u001b[39m\u001b[38;5;124m\"\u001b[39m)\n\u001b[0;32m    101\u001b[0m     \u001b[38;5;28mprint\u001b[39m()\n\u001b[1;32m--> 102\u001b[0m \u001b[38;5;28;01mif\u001b[39;00m casila \u001b[38;5;129;01min\u001b[39;00m [\u001b[38;5;241m16\u001b[39m, \u001b[38;5;241m17\u001b[39m, \u001b[38;5;241m18\u001b[39m, \u001b[38;5;241m19\u001b[39m]:\n\u001b[0;32m    103\u001b[0m     \u001b[38;5;28mprint\u001b[39m()\n\u001b[0;32m    104\u001b[0m     \u001b[38;5;28mprint\u001b[39m(\u001b[38;5;124m\"\u001b[39m\u001b[38;5;124mEl agente ha robado el oro!!!\u001b[39m\u001b[38;5;124m\"\u001b[39m)\n",
      "\u001b[1;31mNameError\u001b[0m: name 'casila' is not defined"
     ]
    }
   ],
   "source": [
    "\n",
    "\n",
    "# Imprimir \"COMIENZO PARTIDA\" en un estilo grande\n",
    "print(\"#########################################\")\n",
    "print(\"#                                       #\")\n",
    "print(\"#           COMIENZO PARTIDA            #\")\n",
    "print(\"#                                       #\")\n",
    "print(\"#########################################\")\n",
    "print()\n",
    "    \n",
    "# Preguntar al usuario por el tamaño del tablero\n",
    "while True:\n",
    "    print(\"Elige el tamaño del tablero:\")\n",
    "    print(\"1. 4x4\")\n",
    "    print(\"2. 6x6\")\n",
    "    opcion = input(\"Selecciona 1 o 2: \")\n",
    "        \n",
    "    if opcion == \"1\":\n",
    "        print(\"Has seleccionado un tablero de 4x4.\")\n",
    "        dimension = 4\n",
    "        break\n",
    "    elif opcion == \"2\":\n",
    "        print(\"Has seleccionado un tablero de 6x6.\")\n",
    "        dimension = 6\n",
    "        break\n",
    "    else:\n",
    "        print(\"Opción no válida. Por favor, selecciona 1 o 2.\")\n",
    "\n",
    "partida = Partida()\n",
    "state = Tablerowumpus()\n",
    "state.generarTableroInicial(dimension)\n",
    "\n",
    "print()\n",
    "print(\"        TABLERO INICIAL         \")\n",
    "print()\n",
    "\n",
    "tableroGrafico = TableroGrafico(state.getMatrix())\n",
    "tableroGrafico.mostrarTablero()\n",
    "flag = True\n",
    "turno = 0\n",
    "\n",
    "while not state.gameOver() and flag:\n",
    "\n",
    "    if turno == 0 and not state.gameOver():\n",
    "        \n",
    "        \n",
    "        # Preguntar al usuario si desea continuar\n",
    "        while True:\n",
    "            respuesta = input(\"¿Deseas continuar? (s/n): \").strip().lower()\n",
    "            if respuesta == 's':\n",
    "                print(\"#########################################\")\n",
    "                print(\"#                                       #\")\n",
    "                print(\"#           TURNO DEL AGENTE            #\")\n",
    "                print(\"#                                       #\")\n",
    "                print(\"#########################################\")\n",
    "                print()\n",
    "                \n",
    "                state = partida.minimax(state)\n",
    "                tableroGrafico = TableroGrafico(state.getMatrix())\n",
    "                tableroGrafico.mostrarTablero()\n",
    "                \n",
    "                turno = 1\n",
    "                break\n",
    "            elif respuesta == 'n':\n",
    "                print(\"Partida terminada. Saliendo...\")\n",
    "                flag = False\n",
    "                break\n",
    "            else:\n",
    "                print(\"Opción no válida. Por favor, responde con 's' o 'n'.\")\n",
    "\n",
    "    if turno == 1 and not state.gameOver():\n",
    "        \n",
    "        # Preguntar al usuario si desea continuar\n",
    "        while True:\n",
    "            respuesta = input(\"¿Deseas continuar? (s/n): \").strip().lower()\n",
    "            if respuesta == 's':\n",
    "                print(\"#########################################\")\n",
    "                print(\"#                                       #\")\n",
    "                print(\"#         TURNO DE LOS HUECOS           #\")\n",
    "                print(\"#                                       #\")\n",
    "                print(\"#########################################\")\n",
    "                print()\n",
    "\n",
    "                state.moverHuecos()\n",
    "                tableroGrafico = TableroGrafico(state.getMatrix())\n",
    "                tableroGrafico.mostrarTablero()\n",
    "                \n",
    "                turno = 0\n",
    "                break\n",
    "            elif respuesta == 'n':\n",
    "                print(\"Partida terminada. Saliendo...\")\n",
    "                flag = False\n",
    "                break\n",
    "            else:\n",
    "                print(\"Opción no válida. Por favor, responde con 's' o 'n'.\")\n",
    "\n",
    "\n",
    "for fila in state.getMatrix():\n",
    "    for casilla in fila:\n",
    "        if casilla == 15:\n",
    "            print()\n",
    "            print(\"El Wumpus ha matado al agente...\")\n",
    "            print()\n",
    "        if casilla in [16, 17, 18, 19]:\n",
    "            print()\n",
    "            print(\"El agente ha robado el oro!!!\")\n",
    "            print()\n",
    "            \n",
    "print(\"EL JUEGO HA TERMINADO\")"
   ]
  },
  {
   "cell_type": "code",
   "execution_count": null,
   "id": "24d8d4c6-0a3c-443b-9d30-153587b61e0f",
   "metadata": {},
   "outputs": [],
   "source": []
  },
  {
   "cell_type": "code",
   "execution_count": null,
   "id": "350d4874-d04b-4f81-bbf8-d7cf21ddb082",
   "metadata": {},
   "outputs": [],
   "source": []
  }
 ],
 "metadata": {
  "kernelspec": {
   "display_name": "Python 3 (ipykernel)",
   "language": "python",
   "name": "python3"
  },
  "language_info": {
   "codemirror_mode": {
    "name": "ipython",
    "version": 3
   },
   "file_extension": ".py",
   "mimetype": "text/x-python",
   "name": "python",
   "nbconvert_exporter": "python",
   "pygments_lexer": "ipython3",
   "version": "3.12.7"
  }
 },
 "nbformat": 4,
 "nbformat_minor": 5
}
